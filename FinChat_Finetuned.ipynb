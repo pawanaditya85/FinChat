{
  "nbformat": 4,
  "nbformat_minor": 0,
  "metadata": {
    "colab": {
      "provenance": [],
      "authorship_tag": "ABX9TyNfEuB6gTFVrqkoSaX53PII",
      "include_colab_link": true
    },
    "kernelspec": {
      "name": "python3",
      "display_name": "Python 3"
    },
    "language_info": {
      "name": "python"
    }
  },
  "cells": [
    {
      "cell_type": "markdown",
      "metadata": {
        "id": "view-in-github",
        "colab_type": "text"
      },
      "source": [
        "<a href=\"https://colab.research.google.com/github/pawanaditya85/FinChat/blob/main/FinChat_Finetuned.ipynb\" target=\"_parent\"><img src=\"https://colab.research.google.com/assets/colab-badge.svg\" alt=\"Open In Colab\"/></a>"
      ]
    },
    {
      "cell_type": "code",
      "source": [
        "pip install rouge-score nltk"
      ],
      "metadata": {
        "colab": {
          "base_uri": "https://localhost:8080/"
        },
        "id": "8QoGakXHIp9_",
        "outputId": "13a02121-1996-4e9b-e045-33c2875be872"
      },
      "execution_count": 14,
      "outputs": [
        {
          "output_type": "stream",
          "name": "stdout",
          "text": [
            "Collecting rouge-score\n",
            "  Downloading rouge_score-0.1.2.tar.gz (17 kB)\n",
            "  Preparing metadata (setup.py) ... \u001b[?25l\u001b[?25hdone\n",
            "Requirement already satisfied: nltk in /usr/local/lib/python3.10/dist-packages (3.9.1)\n",
            "Requirement already satisfied: absl-py in /usr/local/lib/python3.10/dist-packages (from rouge-score) (1.4.0)\n",
            "Requirement already satisfied: numpy in /usr/local/lib/python3.10/dist-packages (from rouge-score) (1.26.4)\n",
            "Requirement already satisfied: six>=1.14.0 in /usr/local/lib/python3.10/dist-packages (from rouge-score) (1.16.0)\n",
            "Requirement already satisfied: click in /usr/local/lib/python3.10/dist-packages (from nltk) (8.1.7)\n",
            "Requirement already satisfied: joblib in /usr/local/lib/python3.10/dist-packages (from nltk) (1.4.2)\n",
            "Requirement already satisfied: regex>=2021.8.3 in /usr/local/lib/python3.10/dist-packages (from nltk) (2024.9.11)\n",
            "Requirement already satisfied: tqdm in /usr/local/lib/python3.10/dist-packages (from nltk) (4.66.6)\n",
            "Building wheels for collected packages: rouge-score\n",
            "  Building wheel for rouge-score (setup.py) ... \u001b[?25l\u001b[?25hdone\n",
            "  Created wheel for rouge-score: filename=rouge_score-0.1.2-py3-none-any.whl size=24935 sha256=541e7028593c2e095400fc497acbe49fcf6173fa6054ad582ad1dc6e175d3067\n",
            "  Stored in directory: /root/.cache/pip/wheels/5f/dd/89/461065a73be61a532ff8599a28e9beef17985c9e9c31e541b4\n",
            "Successfully built rouge-score\n",
            "Installing collected packages: rouge-score\n",
            "Successfully installed rouge-score-0.1.2\n"
          ]
        }
      ]
    },
    {
      "cell_type": "markdown",
      "source": [
        "# **Importing Modeling and Testing**"
      ],
      "metadata": {
        "id": "YUgWbYVh9u8e"
      }
    },
    {
      "cell_type": "code",
      "source": [
        "import openai\n",
        "my_sk = \"FN_SK\"\n",
        "openai.api_key = my_sk\n",
        "import time"
      ],
      "metadata": {
        "id": "QOTEhE3vmtLz"
      },
      "execution_count": 1,
      "outputs": []
    },
    {
      "cell_type": "code",
      "source": [
        "from openai import OpenAI\n",
        "client = OpenAI(api_key=my_sk)"
      ],
      "metadata": {
        "id": "DxeEChUBsoHJ"
      },
      "execution_count": 2,
      "outputs": []
    },
    {
      "cell_type": "code",
      "source": [],
      "metadata": {
        "id": "4pd2L75msnNK"
      },
      "execution_count": null,
      "outputs": []
    },
    {
      "cell_type": "markdown",
      "source": [
        "Libraries for data preparation"
      ],
      "metadata": {
        "id": "NXxZJV1O_zoc"
      }
    },
    {
      "cell_type": "code",
      "source": [
        "import csv\n",
        "import json\n",
        "import random"
      ],
      "metadata": {
        "id": "YX5XW3rL_pxf"
      },
      "execution_count": 3,
      "outputs": []
    },
    {
      "cell_type": "markdown",
      "source": [
        "# **Prepaing Training Data**"
      ],
      "metadata": {
        "id": "RseblTvREVpB"
      }
    },
    {
      "cell_type": "code",
      "source": [
        "from google.colab import drive\n",
        "drive.mount('/content/drive')"
      ],
      "metadata": {
        "colab": {
          "base_uri": "https://localhost:8080/"
        },
        "id": "KizFTPlDDC9Z",
        "outputId": "3af30553-ce5a-48ea-b326-acc4b8e29ac3"
      },
      "execution_count": 4,
      "outputs": [
        {
          "output_type": "stream",
          "name": "stdout",
          "text": [
            "Mounted at /content/drive\n"
          ]
        }
      ]
    },
    {
      "cell_type": "code",
      "source": [
        "question_list= []\n",
        "answer_list= []\n",
        "\n",
        "with open('/content/drive/MyDrive/data/qa_dataset.csv', mode='r') as file:\n",
        "  file = csv.reader(file)\n",
        "\n",
        "  for line in file:\n",
        "    if line[0]=='input':\n",
        "      continue\n",
        "\n",
        "    question_list.append(line[0])\n",
        "    answer_list.append(line[1] + \" -FinChat\")"
      ],
      "metadata": {
        "id": "N0l4E5lq_8Km"
      },
      "execution_count": 5,
      "outputs": []
    },
    {
      "cell_type": "markdown",
      "source": [
        "Conveting the CSV format data to JSONL format for model finetuning (which is a required format mentioned by OPEN AI)"
      ],
      "metadata": {
        "id": "jOTkqlSOEyyS"
      }
    },
    {
      "cell_type": "code",
      "source": [
        "example_list=[]\n",
        "\n",
        "instructions_string =\"\"\"FinChat is a AI chat assistant primarly focusing on personal finance advices for users, addresses user queries on topics ranging from investment strategies, Budgeting, Saving, Retirement Planning, Insurance and Risk Management,Credit and Debt Management. \\\n",
        "It responces to questions fom user and concludes with its signrature ' -FinChat'. \\\n",
        "It uses data which was used for fine tuning the model to answer and question for better responce\\\n",
        "\n",
        "Here are examples of FinChat responding to user questions.\n",
        "\n",
        "input: What's a good strategy for saving for retirement?\n",
        "output: A good retirement saving strategy involves starting early, maximizing your contributions to retirement accounts like a 401(k) or IRA, and investing in a diversified portfolio. For example, if you start investing $200 a month from age 25 in a retirement account with an average annual return of 7%, you could accumulate over $500,000 by the time you retire at 65. -FinChat\n",
        "\n",
        "input: How can I improve my credit score?\n",
        "output: Improving your credit score can be achieved by consistently paying your bills on time, reducing your debt-to-credit ratio, and avoiding opening new credit lines unnecessarily. For instance, paying down a credit card balance that is close to the credit limit can have a noticeable impact on your credit score. -FinChat\n",
        "\n",
        "input: Should I choose a fixed or variable rate mortgage?\n",
        "output: Choosing between a fixed and variable rate mortgage depends on your financial stability and risk tolerance. A fixed-rate mortgage is safer if you prefer predictable payments, while a variable rate might initially be lower but can increase over time. For example, during periods of low interest rates, a fixed rate might help lock in savings long-term. -FinChat\n",
        "\n",
        "input: What are some effective budgeting techniques?\n",
        "output: Effective budgeting techniques include the 50/30/20 rule, where 50% of your income goes towards necessities, 30% towards wants, and 20% towards savings and debt repayment. Additionally, tracking your expenses using apps can help identify areas to cut back. Real-life example: Categorizing your expenses can reveal unnecessary subscriptions or frequent dine-outs that can be reduced. -FinChat\n",
        "\n",
        "input: How should I manage risk when investing?\n",
        "output: Managing risk when investing involves diversifying your portfolio across different asset classes and industries. For instance, mixing stocks, bonds, and real estate investments can protect against market volatility. Also, consider your investment horizon and risk tolerance to align your portfolio accordingly. -FinChat\n",
        "\n",
        "input: What’s the best way to manage debt effectively?\n",
        "output: Managing debt effectively can be approached by prioritizing high-interest debts first, a method known as the avalanche technique. Additionally, consolidating multiple debts into a single loan with a lower interest rate can reduce monthly payments and simplify finances. For example, consolidating credit card debt through a personal loan might reduce interest rates from around 20% to under 10%. -FinChat\"\"\"\n",
        "\n",
        "\n",
        "for i in range(len(question_list)):\n",
        "  system_dict = {\"role\": \"system\", \"content\": instructions_string}\n",
        "  user_dict = {\"role\": \"user\", \"content\": question_list[i]}\n",
        "  assistant_dict = {\"role\": \"assistant\", \"content\": answer_list[i]}\n",
        "\n",
        "  messages_list = [system_dict, user_dict, assistant_dict]\n",
        "\n",
        "  example_list.append({\"messages\": messages_list})"
      ],
      "metadata": {
        "id": "K6j8R3xUEc8P"
      },
      "execution_count": 15,
      "outputs": []
    },
    {
      "cell_type": "markdown",
      "source": [
        "Creating Train/validation split"
      ],
      "metadata": {
        "id": "nzFbMUbALjp4"
      }
    },
    {
      "cell_type": "code",
      "source": [
        "validation_index_list = random.sample(range(0, len(example_list)-1), 200)\n",
        "\n",
        "validation_data_list = [example_list[index] for index in validation_index_list]\n",
        "\n",
        "for example in validation_data_list:\n",
        "  example_list.remove(example)"
      ],
      "metadata": {
        "id": "0CBM68ooLhaF"
      },
      "execution_count": 7,
      "outputs": []
    },
    {
      "cell_type": "code",
      "source": [
        "print(len(example_list))\n",
        "print(len(validation_data_list))"
      ],
      "metadata": {
        "colab": {
          "base_uri": "https://localhost:8080/"
        },
        "id": "5unoUyW3NgI8",
        "outputId": "af1678f3-0d17-4ce1-9716-32c1fa98f0eb"
      },
      "execution_count": 8,
      "outputs": [
        {
          "output_type": "stream",
          "name": "stdout",
          "text": [
            "1787\n",
            "200\n"
          ]
        }
      ]
    },
    {
      "cell_type": "markdown",
      "source": [
        "Writing Example to JSONL files"
      ],
      "metadata": {
        "id": "8O2Syl4ZNZ9s"
      }
    },
    {
      "cell_type": "code",
      "source": [
        "with open('/content/drive/MyDrive/data/training_data.jsonl', 'w') as training_file:\n",
        "  for example in example_list:\n",
        "    json.dump(example, training_file)\n",
        "    training_file.write('\\n')\n",
        "\n",
        "with open('/content/drive/MyDrive/data/validation_data.jsonl', 'w') as validation_file:\n",
        "  for example in validation_data_list:\n",
        "    json.dump(example, validation_file)\n",
        "    validation_file.write('\\n')"
      ],
      "metadata": {
        "id": "gS9MChl2NeZn"
      },
      "execution_count": 9,
      "outputs": []
    },
    {
      "cell_type": "markdown",
      "source": [
        "uploading Training data to OpenAI API"
      ],
      "metadata": {
        "id": "krDu9mm8uezd"
      }
    },
    {
      "cell_type": "code",
      "source": [
        "training_file = client.files.create(\n",
        "    file = open('/content/drive/MyDrive/data/training_data.jsonl', 'rb'),\n",
        "    purpose = \"fine-tune\"\n",
        ")\n",
        "\n",
        "validation_file = client.files.create(\n",
        "    file = open('/content/drive/MyDrive/data/validation_data.jsonl', 'rb'),\n",
        "    purpose = \"fine-tune\"\n",
        ")"
      ],
      "metadata": {
        "id": "Bsxeo5rjSDRn"
      },
      "execution_count": 10,
      "outputs": []
    },
    {
      "cell_type": "markdown",
      "source": [
        "# Create a Fine-tuned Model"
      ],
      "metadata": {
        "id": "7DJ22YbUvWoH"
      }
    },
    {
      "cell_type": "code",
      "source": [
        "client.fine_tuning.jobs.create(\n",
        "    training_file = training_file.id,\n",
        "    validation_file = validation_file.id,\n",
        "    suffix = \"FinChat\",\n",
        "    model = \"gpt-3.5-turbo\"\n",
        ")"
      ],
      "metadata": {
        "colab": {
          "base_uri": "https://localhost:8080/"
        },
        "id": "66EGPUl4vVbj",
        "outputId": "4176dba6-3e46-46d9-92f1-21debd0c4d2f"
      },
      "execution_count": null,
      "outputs": [
        {
          "output_type": "execute_result",
          "data": {
            "text/plain": [
              "FineTuningJob(id='ftjob-86j55h50hIVp9HmJLqBifwpL', created_at=1732618188, error=Error(code=None, message=None, param=None), fine_tuned_model=None, finished_at=None, hyperparameters=Hyperparameters(n_epochs='auto', batch_size='auto', learning_rate_multiplier='auto'), model='gpt-3.5-turbo-0125', object='fine_tuning.job', organization_id='org-nIsl9crHa1Sd0m8Zi5P4GYvc', result_files=[], seed=896319142, status='validating_files', trained_tokens=None, training_file='file-UeqVqV5dKUrRj5QwCz6Lg8', validation_file='file-7FPhXSUDCMzhZCXHBEZywn', estimated_finish=None, integrations=[], user_provided_suffix='FinChat')"
            ]
          },
          "metadata": {},
          "execution_count": 11
        }
      ]
    },
    {
      "cell_type": "markdown",
      "source": [
        "# Testing the Fine Tuned Model"
      ],
      "metadata": {
        "id": "fiO5JhjyRfS5"
      }
    },
    {
      "cell_type": "code",
      "source": [
        "test_question = \"What are some effective budgeting techniques?\""
      ],
      "metadata": {
        "id": "QVv6LAlZRemQ"
      },
      "execution_count": null,
      "outputs": []
    },
    {
      "cell_type": "code",
      "source": [
        "response = client.chat.completions.create(\n",
        "    model=\"ft:gpt-3.5-turbo-0125:personal:finchat:AXoAnqkh\",\n",
        "    messages=[\n",
        "    {\"role\": \"system\", \"content\": instructions_string},\n",
        "    {\"role\": \"user\", \"content\": test_question}\n",
        "    ]\n",
        ")"
      ],
      "metadata": {
        "id": "NgImnDsFSCRC"
      },
      "execution_count": null,
      "outputs": []
    },
    {
      "cell_type": "code",
      "source": [
        "print(dict(response)['choices'][0].message.content)"
      ],
      "metadata": {
        "colab": {
          "base_uri": "https://localhost:8080/"
        },
        "id": "gXfxnF7hSyor",
        "outputId": "dd3fd571-f4c1-4223-af66-162f268f373d"
      },
      "execution_count": null,
      "outputs": [
        {
          "output_type": "stream",
          "name": "stdout",
          "text": [
            "Here's a variant suggestion assuming you're employed: Try to compute and maintain a comprehensive income statement that includes amortizations for bigger expenses. At the beginning of the month, when you compute your income, you should also add to it those amortizations to calculate an effective income, from which you'd calculate your spending limits. \"Amortization\" is a variation from what is known as \"zero-based budgeting\" where, in order to work out a budget, you sit down and try to write out a comprehensive list of things you want to (and have to) spend for, and you can only start the month after you've worked this out. The problem I see with that, is that if you need to spend $X/mo for as long as you can see into the future (e.g. you have to drive to work, etc.), then the derived $X/mo becomes the minimum you can ever manage with. The added complication is that your actual income tends to see some slight variation over the year, if bonuses come and go, you have vacation days, etc. So, with the effective income x(t) (functions added for the somewhat randomness from year to year), at the beginning of time there is: x(0) - x(0) = 0, so you can't spend, anyway, unless you already have a buffer (and you probably do). In recursion, with spending having dropped your effective wealth below x(t-1), you can now spend only up to x(t). -FinChat\n"
          ]
        }
      ]
    },
    {
      "cell_type": "markdown",
      "source": [
        "Evaluation Fine Tuned Model with\n",
        "\n",
        "BLEU:\n",
        "\n",
        "Measures the overlap of n-grams between the predicted and ground truth texts.\n",
        "The sentence_bleu function computes BLEU for each prediction.\n",
        "\n",
        "ROUGE:\n",
        "\n",
        "ROUGE-1: Measures overlap of unigrams (single words).\n",
        "\n",
        "ROUGE-2: Measures overlap of bigrams (two consecutive words).\n",
        "\n",
        "ROUGE-L: Measures the longest common subsequence overlap."
      ],
      "metadata": {
        "id": "5Qed-I3RKMQ1"
      }
    },
    {
      "cell_type": "code",
      "source": [
        "from nltk.translate.bleu_score import sentence_bleu, SmoothingFunction\n",
        "from rouge_score import rouge_scorer\n",
        "\n",
        "# Example test dataset\n",
        "test_dataset = [\n",
        "    {\"question\": \"How to save money on currency conversion\", \"expected_answer\": \"If you want to convert more than a few thousand dollars, one somewhat complex method is to have two investment accounts at a discount broker that operations both in Canada and the USA, then buy securities for USD on a US exchange, have your broker move them to the Canadian account, then sell them on a Canadian exchange for CAD.  This will, of course, incur trading fees, but they should be lower than most currency conversion fees if you convert more than a few thousand dollars, because trading fees typically have a very small percentage component. Using a currency ETF as the security to buy/sell can eliminate the market risk. In any case, it may take up to a week for the trades and transfer to settle.\"},\n",
        "    {\"question\": \"Do I need to file a tax return as a student?\", \"expected_answer\": \"In the U.S., Form 1040 is known as the tax return.  This is the form that is filed annually to calculate your tax due for the year, and you either claim a refund if you have overpaid your taxes or send in a payment if you have underpaid.  The form is generally due on April 15 each year, but this year the due date is April 18, 2016. When it comes to filing your taxes, there are two questions you need to ask yourself: Am I required to file? The 1040 instructions has a section called with several charts that determine if you are legally required to file.  It depends on your status and your gross income.  If you are single, under 65, and not a dependent on someone else's return, you are not required to file if your 2015 income was less than $10,300.  If you will be claimed as a dependent on someone else's return, however, you must file if your earned income (from work) was over $6300, or your unearned income (from investments) was over $1050, or your gross (total) income was more than the larger of either $1050 or your earned income + $350.  See the instructions for more details. Should I file? Even if you find that you are not required to file, it may be beneficial to you to file anyway.  There are two main reasons you might do this: If you have had income where tax has been taken out, you may have overpaid the tax.  Filing the tax return will allow you to get a refund of the amount that you overpaid. As a student, you may be eligible for student tax credits that can get you a refund even if you did not pay any tax during the year. How to file For low income tax payers, the IRS has a program called Free File that provides free filing software options.\"},\n",
        "]\n",
        "\n",
        "# Initialize lists to store results\n",
        "predictions = []\n",
        "ground_truths = []\n",
        "\n",
        "# Generate predictions\n",
        "for test_case in test_dataset:\n",
        "    question = test_case[\"question\"]\n",
        "    expected_answer = test_case[\"expected_answer\"]\n",
        "\n",
        "    response = client.chat.completions.create(\n",
        "        model=\"ft:gpt-3.5-turbo-0125:personal:finchat:AXoAnqkh\",\n",
        "        messages=[\n",
        "            {\"role\": \"system\", \"content\": \"Answer the question based on financial principles.\"},\n",
        "            {\"role\": \"user\", \"content\": question}\n",
        "        ]\n",
        "    )\n",
        "\n",
        "    predicted_answer = dict(response)['choices'][0].message.content\n",
        "    predictions.append(predicted_answer)\n",
        "    ground_truths.append(expected_answer)\n",
        "\n",
        "# Compute BLEU and ROUGE Scores\n",
        "bleu_scores = []\n",
        "rouge_scorer_instance = rouge_scorer.RougeScorer(['rouge1', 'rouge2', 'rougeL'], use_stemmer=True)\n",
        "rouge_scores = []\n",
        "\n",
        "for pred, gt in zip(predictions, ground_truths):\n",
        "    # BLEU score\n",
        "    bleu = sentence_bleu(\n",
        "        [gt.split()],\n",
        "        pred.split(),\n",
        "        smoothing_function=SmoothingFunction().method1\n",
        "    )\n",
        "    bleu_scores.append(bleu)\n",
        "\n",
        "    # ROUGE score\n",
        "    rouge = rouge_scorer_instance.score(gt, pred)\n",
        "    rouge_scores.append(rouge)\n",
        "\n",
        "# Calculate average scores\n",
        "average_bleu = sum(bleu_scores) / len(bleu_scores)\n",
        "average_rouge1 = sum([score['rouge1'].fmeasure for score in rouge_scores]) / len(rouge_scores)\n",
        "average_rouge2 = sum([score['rouge2'].fmeasure for score in rouge_scores]) / len(rouge_scores)\n",
        "average_rougeL = sum([score['rougeL'].fmeasure for score in rouge_scores]) / len(rouge_scores)\n",
        "\n",
        "# Print metrics\n",
        "print(f\"Average BLEU Score: {average_bleu:.4f}\")\n",
        "print(f\"Average ROUGE-1 Score: {average_rouge1:.4f}\")\n",
        "print(f\"Average ROUGE-2 Score: {average_rouge2:.4f}\")\n",
        "print(f\"Average ROUGE-L Score: {average_rougeL:.4f}\")\n"
      ],
      "metadata": {
        "colab": {
          "base_uri": "https://localhost:8080/"
        },
        "id": "hiSCLco7IxVD",
        "outputId": "d6225593-dcbb-499e-c5af-dac79316f3aa"
      },
      "execution_count": 18,
      "outputs": [
        {
          "output_type": "stream",
          "name": "stdout",
          "text": [
            "Average BLEU Score: 0.0184\n",
            "Average ROUGE-1 Score: 0.3239\n",
            "Average ROUGE-2 Score: 0.0519\n",
            "Average ROUGE-L Score: 0.1270\n"
          ]
        }
      ]
    }
  ]
}